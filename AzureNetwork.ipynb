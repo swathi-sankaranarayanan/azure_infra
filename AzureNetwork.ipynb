{
 "cells": [
  {
   "cell_type": "code",
   "execution_count": 17,
   "id": "daa0388a-4986-424a-907e-5548a12aadf6",
   "metadata": {},
   "outputs": [
    {
     "name": "stdout",
     "output_type": "stream",
     "text": [
      "\u001b[0m\u001b[1mInitializing the backend...\u001b[0m\n",
      "\u001b[0m\u001b[1mInitializing modules...\u001b[0m\n",
      "\u001b[0m\u001b[1mInitializing provider plugins...\u001b[0m\n",
      "- Reusing previous version of hashicorp/azurerm from the dependency lock file\n",
      "- Using previously-installed hashicorp/azurerm v4.29.0\n",
      "\n",
      "\u001b[0m\u001b[1m\u001b[32mTerraform has been successfully initialized!\u001b[0m\u001b[32m\u001b[0m\n",
      "\u001b[0m\u001b[32m\n",
      "You may now begin working with Terraform. Try running \"terraform plan\" to see\n",
      "any changes that are required for your infrastructure. All Terraform commands\n",
      "should now work.\n",
      "\n",
      "If you ever set or change modules or backend configuration for Terraform,\n",
      "rerun this command to reinitialize your working directory. If you forget, other\n",
      "commands will detect it and remind you to do so if necessary.\u001b[0m\n"
     ]
    }
   ],
   "source": [
    "terraform init"
   ]
  },
  {
   "cell_type": "code",
   "execution_count": 27,
   "id": "eae37a29-1b29-454f-8872-d49bf87508fa",
   "metadata": {},
   "outputs": [
    {
     "name": "stdout",
     "output_type": "stream",
     "text": [
      "\u001b[32m\u001b[1mSuccess!\u001b[0m The configuration is valid.\n",
      "\u001b[0m\n"
     ]
    }
   ],
   "source": [
    "terraform validate"
   ]
  },
  {
   "cell_type": "code",
   "execution_count": 28,
   "id": "99157412-e3ec-4920-bd49-53cb588ed3c5",
   "metadata": {},
   "outputs": [
    {
     "name": "stdout",
     "output_type": "stream",
     "text": [
      "main.tf\n"
     ]
    }
   ],
   "source": [
    "terraform fmt"
   ]
  },
  {
   "cell_type": "code",
   "execution_count": 37,
   "id": "26d0ff56-cf9d-40e3-a856-5ad91148fa29",
   "metadata": {},
   "outputs": [
    {
     "name": "stdout",
     "output_type": "stream",
     "text": [
      "\u001b[0m\u001b[1mmodule.create_resources.azurerm_resource_group.rg-swathi: Refreshing state... [id=/subscriptions/537bb5af-974a-40ed-9493-5761b69e345a/resourceGroups/rg-swathi]\u001b[0m\n",
      "\u001b[0m\u001b[1mmodule.create_resources.azurerm_network_security_group.swathi-sec-group: Refreshing state... [id=/subscriptions/537bb5af-974a-40ed-9493-5761b69e345a/resourceGroups/rg-swathi/providers/Microsoft.Network/networkSecurityGroups/swathi-security-group]\u001b[0m\n",
      "\u001b[0m\u001b[1mmodule.create_resources.azurerm_virtual_network.swathi-vm: Refreshing state... [id=/subscriptions/537bb5af-974a-40ed-9493-5761b69e345a/resourceGroups/rg-swathi/providers/Microsoft.Network/virtualNetworks/swathi-vm]\u001b[0m\n",
      "\u001b[0m\u001b[1mmodule.create_resources.azurerm_subnet.swathi-subnet: Refreshing state... [id=/subscriptions/537bb5af-974a-40ed-9493-5761b69e345a/resourceGroups/rg-swathi/providers/Microsoft.Network/virtualNetworks/swathi-vm/subnets/swathi-subnet]\u001b[0m\n",
      "\u001b[0m\u001b[1mmodule.create_resources.azurerm_network_security_rule.swathi-sec-rule[\"80\"]: Refreshing state... [id=/subscriptions/537bb5af-974a-40ed-9493-5761b69e345a/resourceGroups/rg-swathi/providers/Microsoft.Network/networkSecurityGroups/swathi-security-group/securityRules/port-80]\u001b[0m\n",
      "\u001b[0m\u001b[1mmodule.create_resources.azurerm_network_security_rule.swathi-sec-rule[\"443\"]: Refreshing state... [id=/subscriptions/537bb5af-974a-40ed-9493-5761b69e345a/resourceGroups/rg-swathi/providers/Microsoft.Network/networkSecurityGroups/swathi-security-group/securityRules/port-443]\u001b[0m\n",
      "\n",
      "Terraform used the selected providers to generate the following execution plan.\n",
      "Resource actions are indicated with the following symbols:\n",
      "  \u001b[32m+\u001b[0m create\u001b[0m\n",
      "\n",
      "Terraform will perform the following actions:\n",
      "\n",
      "\u001b[1m  # module.create_resources.azurerm_subnet_network_security_group_association.swathi-sec-association\u001b[0m will be created\n",
      "\u001b[0m  \u001b[32m+\u001b[0m\u001b[0m resource \"azurerm_subnet_network_security_group_association\" \"swathi-sec-association\" {\n",
      "      \u001b[32m+\u001b[0m\u001b[0m id                        = (known after apply)\n",
      "      \u001b[32m+\u001b[0m\u001b[0m network_security_group_id = \"/subscriptions/537bb5af-974a-40ed-9493-5761b69e345a/resourceGroups/rg-swathi/providers/Microsoft.Network/networkSecurityGroups/swathi-security-group\"\n",
      "      \u001b[32m+\u001b[0m\u001b[0m subnet_id                 = \"/subscriptions/537bb5af-974a-40ed-9493-5761b69e345a/resourceGroups/rg-swathi/providers/Microsoft.Network/virtualNetworks/swathi-vm/subnets/swathi-subnet\"\n",
      "    }\n",
      "\n",
      "\u001b[1mPlan:\u001b[0m 1 to add, 0 to change, 0 to destroy.\n",
      "\u001b[0m\u001b[90m\n",
      "───────────────────────────────────────────────────────────────────────────────\u001b[0m\n",
      "\n",
      "Saved the plan to: plan.out\n",
      "\n",
      "To perform exactly these actions, run the following command to apply:\n",
      "    terraform apply \"plan.out\"\n"
     ]
    }
   ],
   "source": [
    "terraform plan -out plan.out"
   ]
  },
  {
   "cell_type": "code",
   "execution_count": 38,
   "id": "b7e7f5ec-6b2d-4ff7-acec-ec76c72860e6",
   "metadata": {},
   "outputs": [
    {
     "name": "stdout",
     "output_type": "stream",
     "text": [
      "\u001b[0m\u001b[1mmodule.create_resources.azurerm_subnet_network_security_group_association.swathi-sec-association: Creating...\u001b[0m\u001b[0m\n",
      "\u001b[0m\u001b[1mmodule.create_resources.azurerm_subnet_network_security_group_association.swathi-sec-association: Creation complete after 4s [id=/subscriptions/537bb5af-974a-40ed-9493-5761b69e345a/resourceGroups/rg-swathi/providers/Microsoft.Network/virtualNetworks/swathi-vm/subnets/swathi-subnet]\u001b[0m\n",
      "\u001b[0m\u001b[1m\u001b[32m\n",
      "Apply complete! Resources: 1 added, 0 changed, 0 destroyed.\n",
      "\u001b[0m\n"
     ]
    }
   ],
   "source": [
    "terraform apply \"plan.out\""
   ]
  },
  {
   "cell_type": "code",
   "execution_count": null,
   "id": "7037d5fd-9adc-4fef-9587-5a187afc72ed",
   "metadata": {},
   "outputs": [],
   "source": [
    "terraform destroy -auto-approve"
   ]
  }
 ],
 "metadata": {
  "kernelspec": {
   "display_name": "Bash",
   "language": "bash",
   "name": "bash"
  },
  "language_info": {
   "codemirror_mode": "shell",
   "file_extension": ".sh",
   "mimetype": "text/x-sh",
   "name": "bash"
  }
 },
 "nbformat": 4,
 "nbformat_minor": 5
}
